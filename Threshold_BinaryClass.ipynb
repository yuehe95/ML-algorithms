{
 "cells": [
  {
   "cell_type": "markdown",
   "id": "398532f2-adcc-4167-aa61-3ef46405a637",
   "metadata": {},
   "source": [
    "# Find optimal threshold for Binary Classification using ROC curve "
   ]
  },
  {
   "cell_type": "code",
   "execution_count": 3,
   "id": "76029f29-b8d0-4778-b0a0-23d9b144a112",
   "metadata": {},
   "outputs": [],
   "source": [
    "# import required library \n",
    "import numpy as np \n",
    "import pandas as pd\n",
    "import matplotlib.pyplot as plt \n",
    "import seaborn as sns\n",
    "from sklearn.metrics import roc_curve\n",
    "from sklearn.metrics import roc_auc_score"
   ]
  },
  {
   "cell_type": "code",
   "execution_count": 4,
   "id": "2a60aa6e-3e06-499f-8fc2-2b7774deacf1",
   "metadata": {},
   "outputs": [
    {
     "data": {
      "text/plain": [
       "(2000, 20)"
      ]
     },
     "execution_count": 4,
     "metadata": {},
     "output_type": "execute_result"
    }
   ],
   "source": [
    "# import make_classification to help on generating a dataset for classfication problem \n",
    "from sklearn.datasets import make_classification\n",
    "x,y = make_classification(n_samples=2000,n_classes=2, weights=[1,1], random_state=1)\n",
    "x.shape # 2000 records, 20 features (by default), 2 output labels, and balanced dataset by same weight"
   ]
  },
  {
   "cell_type": "code",
   "execution_count": 5,
   "id": "2969f5f0-8cb9-4735-87fc-4f694e5bbb04",
   "metadata": {},
   "outputs": [
    {
     "data": {
      "text/plain": [
       "array([0, 0, 0, ..., 1, 1, 0])"
      ]
     },
     "execution_count": 5,
     "metadata": {},
     "output_type": "execute_result"
    }
   ],
   "source": [
    "y"
   ]
  },
  {
   "cell_type": "code",
   "execution_count": 7,
   "id": "c5618b2f-e991-423f-b123-64152c8978fd",
   "metadata": {},
   "outputs": [],
   "source": [
    "# train, test split \n",
    "from sklearn.model_selection import train_test_split \n",
    "x_train, x_test, y_train, y_test = train_test_split(x,y,test_size=0.3, random_state=1)"
   ]
  },
  {
   "cell_type": "markdown",
   "id": "1b50e1d6-a931-434d-b7ab-390ada589108",
   "metadata": {},
   "source": [
    "### Random Forest "
   ]
  },
  {
   "cell_type": "code",
   "execution_count": 12,
   "id": "76703f91-74e7-44bc-8d45-3526bc670d86",
   "metadata": {},
   "outputs": [
    {
     "data": {
      "text/plain": [
       "array([[0.99, 0.01],\n",
       "       [0.98, 0.02],\n",
       "       [0.02, 0.98],\n",
       "       ...,\n",
       "       [0.98, 0.02],\n",
       "       [0.99, 0.01],\n",
       "       [0.32, 0.68]])"
      ]
     },
     "execution_count": 12,
     "metadata": {},
     "output_type": "execute_result"
    }
   ],
   "source": [
    "from sklearn.ensemble import RandomForestClassifier\n",
    "rf_model = RandomForestClassifier()\n",
    "rf_model.fit(x_train,y_train)\n",
    "ytrain_pred = rf_model.predict_proba(x_train)\n",
    "ytrain_pred # the probabilities of the target being class 0 and class 1"
   ]
  },
  {
   "cell_type": "code",
   "execution_count": 13,
   "id": "59076d46-fd93-4fb7-b87a-49df0c3677de",
   "metadata": {},
   "outputs": [
    {
     "name": "stdout",
     "output_type": "stream",
     "text": [
      "RF train roc-auc: 1.0\n",
      "RF test roc-auc: 0.9831666666666666\n"
     ]
    }
   ],
   "source": [
    "print('RF train roc-auc: {}'.format(roc_auc_score(y_train,ytrain_pred[:,-1])))\n",
    "#Since class 1 is typically considered the event of interest, we use the probabilities that \n",
    "#the samples belong to class 1 to compute the ROC-AUC score.\n",
    "ytest_pred = rf_model.predict_proba(x_test)\n",
    "print('RF test roc-auc: {}'.format(roc_auc_score(y_test,ytest_pred[:,-1])))"
   ]
  },
  {
   "cell_type": "markdown",
   "id": "b8bfaaba-5745-4f0a-8871-1f32a31f9034",
   "metadata": {},
   "source": [
    "### Logistic Regression "
   ]
  },
  {
   "cell_type": "code",
   "execution_count": 17,
   "id": "d40846c4-53c2-426d-bd21-1a08e661bb1e",
   "metadata": {},
   "outputs": [
    {
     "name": "stdout",
     "output_type": "stream",
     "text": [
      "Logistic train roc-auc: 0.9863589331232614\n",
      "Logistic test roc-auc: 0.9885777777777777\n"
     ]
    }
   ],
   "source": [
    "from sklearn.linear_model import LogisticRegression \n",
    "log_model = LogisticRegression()\n",
    "log_model.fit(x_train,y_train)\n",
    "ytrain_pred = log_model.predict_proba(x_train)\n",
    "print('Logistic train roc-auc: {}'.format(roc_auc_score(y_train,ytrain_pred[:,-1])))\n",
    "ytest_pred = log_model.predict_proba(x_test)\n",
    "print('Logistic test roc-auc: {}'.format(roc_auc_score(y_test,ytest_pred[:,-1])))"
   ]
  },
  {
   "cell_type": "markdown",
   "id": "c09e9a0d-37f8-4564-ad32-091539a94204",
   "metadata": {},
   "source": [
    "### Adaboost Classifier "
   ]
  },
  {
   "cell_type": "code",
   "execution_count": 20,
   "id": "f1a6617c-3f8e-4e1d-a9d0-fa3865cd8229",
   "metadata": {},
   "outputs": [
    {
     "name": "stdout",
     "output_type": "stream",
     "text": [
      "AdaBoost train roc-auc: 0.9926743552432595\n",
      "AdaBoost test roc-auc: 0.9794888888888889\n"
     ]
    }
   ],
   "source": [
    "from sklearn.ensemble import AdaBoostClassifier\n",
    "ada_model = AdaBoostClassifier(algorithm='SAMME')\n",
    "ada_model.fit(x_train,y_train)\n",
    "ytrain_pred = ada_model.predict_proba(x_train)\n",
    "print('AdaBoost train roc-auc: {}'.format(roc_auc_score(y_train,ytrain_pred[:,-1])))\n",
    "ytest_pred = ada_model.predict_proba(x_test)\n",
    "print('AdaBoost test roc-auc: {}'.format(roc_auc_score(y_test,ytest_pred[:,-1])))"
   ]
  },
  {
   "cell_type": "markdown",
   "id": "6dc5a529-8865-4a7a-bc11-1e1649713a85",
   "metadata": {},
   "source": [
    "### KNN Classifier "
   ]
  },
  {
   "cell_type": "code",
   "execution_count": 23,
   "id": "1f8143db-c254-454e-abc9-e622b2d5f2a4",
   "metadata": {},
   "outputs": [
    {
     "name": "stdout",
     "output_type": "stream",
     "text": [
      "KNN train roc-auc: 0.981670071491109\n",
      "KNN test roc-auc: 0.9426111111111111\n"
     ]
    }
   ],
   "source": [
    "from sklearn.neighbors import KNeighborsClassifier \n",
    "knn_model = KNeighborsClassifier()\n",
    "knn_model.fit(x_train,y_train)\n",
    "ytrain_pred = knn_model.predict_proba(x_train)\n",
    "print('KNN train roc-auc: {}'.format(roc_auc_score(y_train,ytrain_pred[:,-1])))\n",
    "ytest_pred = knn_model.predict_proba(x_test)\n",
    "print('KNN test roc-auc: {}'.format(roc_auc_score(y_test,ytest_pred[:,-1])))"
   ]
  },
  {
   "cell_type": "markdown",
   "id": "efa01d20-8307-4282-916b-898bcd8b6213",
   "metadata": {},
   "source": [
    "## Now we will focus on slecting the best threshold for maximum accuracy "
   ]
  },
  {
   "cell_type": "code",
   "execution_count": 26,
   "id": "4856927b-0870-4919-b5a8-cda75a5d7d14",
   "metadata": {},
   "outputs": [
    {
     "name": "stdout",
     "output_type": "stream",
     "text": [
      "Ensemble test roc-auc: 0.9852444444444444\n"
     ]
    }
   ],
   "source": [
    "pred = []\n",
    "for model in [rf_model,log_model,ada_model,knn_model]:\n",
    "    pred.append(pd.Series(model.predict_proba(x_test)[:,-1]))\n",
    "final_pred = pd.concat(pred,axis=1).mean(axis=1)\n",
    "print('Ensemble test roc-auc: {}'.format(roc_auc_score(y_test,final_pred)))"
   ]
  },
  {
   "cell_type": "code",
   "execution_count": 27,
   "id": "df5a609a-1d00-4c59-a612-721158ea0773",
   "metadata": {},
   "outputs": [
    {
     "data": {
      "text/html": [
       "<div>\n",
       "<style scoped>\n",
       "    .dataframe tbody tr th:only-of-type {\n",
       "        vertical-align: middle;\n",
       "    }\n",
       "\n",
       "    .dataframe tbody tr th {\n",
       "        vertical-align: top;\n",
       "    }\n",
       "\n",
       "    .dataframe thead th {\n",
       "        text-align: right;\n",
       "    }\n",
       "</style>\n",
       "<table border=\"1\" class=\"dataframe\">\n",
       "  <thead>\n",
       "    <tr style=\"text-align: right;\">\n",
       "      <th></th>\n",
       "      <th>0</th>\n",
       "      <th>1</th>\n",
       "      <th>2</th>\n",
       "      <th>3</th>\n",
       "    </tr>\n",
       "  </thead>\n",
       "  <tbody>\n",
       "    <tr>\n",
       "      <th>0</th>\n",
       "      <td>1.00</td>\n",
       "      <td>0.991873</td>\n",
       "      <td>0.669528</td>\n",
       "      <td>1.0</td>\n",
       "    </tr>\n",
       "    <tr>\n",
       "      <th>1</th>\n",
       "      <td>0.02</td>\n",
       "      <td>0.000008</td>\n",
       "      <td>0.316455</td>\n",
       "      <td>0.0</td>\n",
       "    </tr>\n",
       "    <tr>\n",
       "      <th>2</th>\n",
       "      <td>0.99</td>\n",
       "      <td>0.966763</td>\n",
       "      <td>0.632138</td>\n",
       "      <td>0.8</td>\n",
       "    </tr>\n",
       "    <tr>\n",
       "      <th>3</th>\n",
       "      <td>0.94</td>\n",
       "      <td>0.761896</td>\n",
       "      <td>0.533171</td>\n",
       "      <td>0.8</td>\n",
       "    </tr>\n",
       "    <tr>\n",
       "      <th>4</th>\n",
       "      <td>0.58</td>\n",
       "      <td>0.779209</td>\n",
       "      <td>0.440650</td>\n",
       "      <td>0.4</td>\n",
       "    </tr>\n",
       "    <tr>\n",
       "      <th>...</th>\n",
       "      <td>...</td>\n",
       "      <td>...</td>\n",
       "      <td>...</td>\n",
       "      <td>...</td>\n",
       "    </tr>\n",
       "    <tr>\n",
       "      <th>595</th>\n",
       "      <td>0.03</td>\n",
       "      <td>0.024263</td>\n",
       "      <td>0.321128</td>\n",
       "      <td>0.0</td>\n",
       "    </tr>\n",
       "    <tr>\n",
       "      <th>596</th>\n",
       "      <td>0.05</td>\n",
       "      <td>0.000003</td>\n",
       "      <td>0.262749</td>\n",
       "      <td>0.0</td>\n",
       "    </tr>\n",
       "    <tr>\n",
       "      <th>597</th>\n",
       "      <td>0.98</td>\n",
       "      <td>0.984400</td>\n",
       "      <td>0.605074</td>\n",
       "      <td>1.0</td>\n",
       "    </tr>\n",
       "    <tr>\n",
       "      <th>598</th>\n",
       "      <td>0.00</td>\n",
       "      <td>0.001157</td>\n",
       "      <td>0.266081</td>\n",
       "      <td>0.2</td>\n",
       "    </tr>\n",
       "    <tr>\n",
       "      <th>599</th>\n",
       "      <td>0.99</td>\n",
       "      <td>0.989543</td>\n",
       "      <td>0.660185</td>\n",
       "      <td>0.8</td>\n",
       "    </tr>\n",
       "  </tbody>\n",
       "</table>\n",
       "<p>600 rows × 4 columns</p>\n",
       "</div>"
      ],
      "text/plain": [
       "        0         1         2    3\n",
       "0    1.00  0.991873  0.669528  1.0\n",
       "1    0.02  0.000008  0.316455  0.0\n",
       "2    0.99  0.966763  0.632138  0.8\n",
       "3    0.94  0.761896  0.533171  0.8\n",
       "4    0.58  0.779209  0.440650  0.4\n",
       "..    ...       ...       ...  ...\n",
       "595  0.03  0.024263  0.321128  0.0\n",
       "596  0.05  0.000003  0.262749  0.0\n",
       "597  0.98  0.984400  0.605074  1.0\n",
       "598  0.00  0.001157  0.266081  0.2\n",
       "599  0.99  0.989543  0.660185  0.8\n",
       "\n",
       "[600 rows x 4 columns]"
      ]
     },
     "execution_count": 27,
     "metadata": {},
     "output_type": "execute_result"
    }
   ],
   "source": [
    "pd.concat(pred,axis=1) #concat each model result into columns using axis=1"
   ]
  },
  {
   "cell_type": "code",
   "execution_count": 30,
   "id": "dfcb1882-abcc-43c9-970c-e9c0bd5469a7",
   "metadata": {},
   "outputs": [
    {
     "data": {
      "text/plain": [
       "0      0.915350\n",
       "1      0.084116\n",
       "2      0.847225\n",
       "3      0.758767\n",
       "4      0.549965\n",
       "         ...   \n",
       "595    0.093848\n",
       "596    0.078188\n",
       "597    0.892368\n",
       "598    0.116810\n",
       "599    0.859932\n",
       "Length: 600, dtype: float64"
      ]
     },
     "execution_count": 30,
     "metadata": {},
     "output_type": "execute_result"
    }
   ],
   "source": [
    "final_pred #mean of 4 models "
   ]
  },
  {
   "cell_type": "code",
   "execution_count": 32,
   "id": "adb5dee2-e0c6-4e65-9108-6764473c5b07",
   "metadata": {},
   "outputs": [
    {
     "data": {
      "text/plain": [
       "array([       inf, 0.92543555, 0.91122892, 0.91085577, 0.81544064,\n",
       "       0.81491304, 0.81167517, 0.81158135, 0.81143614, 0.80961355,\n",
       "       0.78710151, 0.78587021, 0.73418589, 0.73195217, 0.72375234,\n",
       "       0.72109565, 0.69208281, 0.68997295, 0.59946969, 0.59633457,\n",
       "       0.58635299, 0.58367231, 0.58330144, 0.58050184, 0.57496822,\n",
       "       0.574893  , 0.57206678, 0.56899768, 0.56822548, 0.56598082,\n",
       "       0.54783762, 0.54345293, 0.46696984, 0.46619513, 0.45992217,\n",
       "       0.45644019, 0.4477096 , 0.42230819, 0.42098027, 0.36662446,\n",
       "       0.35042692, 0.33351662, 0.33248471, 0.22429285, 0.21865762,\n",
       "       0.21702414, 0.21218852, 0.17700861, 0.17659164, 0.08904215,\n",
       "       0.08877288, 0.05152849])"
      ]
     },
     "execution_count": 32,
     "metadata": {},
     "output_type": "execute_result"
    }
   ],
   "source": [
    "fpr,tpr,threshold = roc_curve(y_test,final_pred)\n",
    "threshold"
   ]
  },
  {
   "cell_type": "code",
   "execution_count": 34,
   "id": "d44235fe-fee2-4d04-bbc7-412cca1d2a29",
   "metadata": {},
   "outputs": [
    {
     "data": {
      "text/html": [
       "<div>\n",
       "<style scoped>\n",
       "    .dataframe tbody tr th:only-of-type {\n",
       "        vertical-align: middle;\n",
       "    }\n",
       "\n",
       "    .dataframe tbody tr th {\n",
       "        vertical-align: top;\n",
       "    }\n",
       "\n",
       "    .dataframe thead th {\n",
       "        text-align: right;\n",
       "    }\n",
       "</style>\n",
       "<table border=\"1\" class=\"dataframe\">\n",
       "  <thead>\n",
       "    <tr style=\"text-align: right;\">\n",
       "      <th></th>\n",
       "      <th>threshold</th>\n",
       "      <th>accuracy</th>\n",
       "    </tr>\n",
       "  </thead>\n",
       "  <tbody>\n",
       "    <tr>\n",
       "      <th>37</th>\n",
       "      <td>0.422308</td>\n",
       "      <td>0.960000</td>\n",
       "    </tr>\n",
       "    <tr>\n",
       "      <th>35</th>\n",
       "      <td>0.456440</td>\n",
       "      <td>0.960000</td>\n",
       "    </tr>\n",
       "    <tr>\n",
       "      <th>33</th>\n",
       "      <td>0.466195</td>\n",
       "      <td>0.960000</td>\n",
       "    </tr>\n",
       "    <tr>\n",
       "      <th>38</th>\n",
       "      <td>0.420980</td>\n",
       "      <td>0.958333</td>\n",
       "    </tr>\n",
       "    <tr>\n",
       "      <th>36</th>\n",
       "      <td>0.447710</td>\n",
       "      <td>0.958333</td>\n",
       "    </tr>\n",
       "  </tbody>\n",
       "</table>\n",
       "</div>"
      ],
      "text/plain": [
       "    threshold  accuracy\n",
       "37   0.422308  0.960000\n",
       "35   0.456440  0.960000\n",
       "33   0.466195  0.960000\n",
       "38   0.420980  0.958333\n",
       "36   0.447710  0.958333"
      ]
     },
     "execution_count": 34,
     "metadata": {},
     "output_type": "execute_result"
    }
   ],
   "source": [
    "from sklearn.metrics import accuracy_score\n",
    "accuracy_ls = []\n",
    "# for each threshold, run through final_pred, make classification, and calculate the accuracy\n",
    "for thres in threshold:\n",
    "    y_pred = np.where(final_pred>thres,1,0)\n",
    "    accuracy_ls.append(accuracy_score(y_test,y_pred,normalize=True))\n",
    "accuracy_ls = pd.concat([pd.Series(threshold), pd.Series(accuracy_ls)],axis=1)\n",
    "accuracy_ls.columns = ['threshold','accuracy']\n",
    "accuracy_ls.sort_values(by='accuracy', ascending=False, inplace=True)\n",
    "accuracy_ls.head()"
   ]
  },
  {
   "cell_type": "markdown",
   "id": "6194bfcd-b6e4-4714-804f-8cc4150e704f",
   "metadata": {},
   "source": [
    "### Then select the first threshold as the optimal threshold "
   ]
  },
  {
   "cell_type": "code",
   "execution_count": 37,
   "id": "904db392-4afd-499a-81bf-25eee346f98a",
   "metadata": {},
   "outputs": [],
   "source": [
    "# Can also see this through the ROC curve \n",
    "def plot_roc_curve(fpr,tpr):\n",
    "    plt.plot(fpr,tpr,color = 'red', label = 'ROC')\n",
    "    plt.plot([0,1],[0,1],color = 'black',linestyle = '--')\n",
    "    plt.xlabel('False Positive Rate')\n",
    "    plt.ylabel('True Positive Rate')\n",
    "    plt.title('Receiver Operating Characteristic Curve (ROC)')\n",
    "    plt.legend()\n",
    "    plt.show()"
   ]
  },
  {
   "cell_type": "code",
   "execution_count": 39,
   "id": "cea1054a-0401-4818-96ef-cfdbf194eca2",
   "metadata": {},
   "outputs": [
    {
     "data": {
      "image/png": "[encoded data removed]",
      "text/plain": [
       "<Figure size 640x480 with 1 Axes>"
      ]
     },
     "metadata": {},
     "output_type": "display_data"
    }
   ],
   "source": [
    "plot_roc_curve(fpr,tpr)"
   ]
  },
  {
   "cell_type": "code",
   "execution_count": null,
   "id": "e6eddf75-07e6-4416-a78a-54486ae6e795",
   "metadata": {},
   "outputs": [],
   "source": []
  }
 ],
 "metadata": {
  "kernelspec": {
   "display_name": "Python 3 (ipykernel)",
   "language": "python",
   "name": "python3"
  },
  "language_info": {
   "codemirror_mode": {
    "name": "ipython",
    "version": 3
   },
   "file_extension": ".py",
   "mimetype": "text/x-python",
   "name": "python",
   "nbconvert_exporter": "python",
   "pygments_lexer": "ipython3",
   "version": "3.12.4"
  }
 },
 "nbformat": 4,
 "nbformat_minor": 5
}
